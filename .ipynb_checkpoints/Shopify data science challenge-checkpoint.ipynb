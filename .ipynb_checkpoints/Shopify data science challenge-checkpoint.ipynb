{
 "cells": [
  {
   "cell_type": "markdown",
   "metadata": {},
   "source": [
    "## Importing libraries"
   ]
  },
  {
   "cell_type": "code",
   "execution_count": 1,
   "metadata": {
    "ExecuteTime": {
     "end_time": "2020-08-28T04:53:03.238321Z",
     "start_time": "2020-08-28T04:53:00.989517Z"
    }
   },
   "outputs": [],
   "source": [
    "import pandas as pd"
   ]
  },
  {
   "cell_type": "markdown",
   "metadata": {},
   "source": [
    "### reading the data"
   ]
  },
  {
   "cell_type": "code",
   "execution_count": 2,
   "metadata": {
    "ExecuteTime": {
     "end_time": "2020-08-28T04:53:03.282216Z",
     "start_time": "2020-08-28T04:53:03.245542Z"
    }
   },
   "outputs": [],
   "source": [
    "data = pd.read_csv(\"data.csv\")"
   ]
  },
  {
   "cell_type": "code",
   "execution_count": 3,
   "metadata": {
    "ExecuteTime": {
     "end_time": "2020-08-28T04:53:03.391110Z",
     "start_time": "2020-08-28T04:53:03.296169Z"
    }
   },
   "outputs": [
    {
     "data": {
      "text/html": [
       "<div>\n",
       "<style scoped>\n",
       "    .dataframe tbody tr th:only-of-type {\n",
       "        vertical-align: middle;\n",
       "    }\n",
       "\n",
       "    .dataframe tbody tr th {\n",
       "        vertical-align: top;\n",
       "    }\n",
       "\n",
       "    .dataframe thead th {\n",
       "        text-align: right;\n",
       "    }\n",
       "</style>\n",
       "<table border=\"1\" class=\"dataframe\">\n",
       "  <thead>\n",
       "    <tr style=\"text-align: right;\">\n",
       "      <th></th>\n",
       "      <th>order_id</th>\n",
       "      <th>shop_id</th>\n",
       "      <th>user_id</th>\n",
       "      <th>order_amount</th>\n",
       "      <th>total_items</th>\n",
       "      <th>payment_method</th>\n",
       "      <th>created_at</th>\n",
       "    </tr>\n",
       "  </thead>\n",
       "  <tbody>\n",
       "    <tr>\n",
       "      <th>0</th>\n",
       "      <td>1</td>\n",
       "      <td>53</td>\n",
       "      <td>746</td>\n",
       "      <td>224</td>\n",
       "      <td>2</td>\n",
       "      <td>cash</td>\n",
       "      <td>2017-03-13 12:36:56</td>\n",
       "    </tr>\n",
       "    <tr>\n",
       "      <th>1</th>\n",
       "      <td>2</td>\n",
       "      <td>92</td>\n",
       "      <td>925</td>\n",
       "      <td>90</td>\n",
       "      <td>1</td>\n",
       "      <td>cash</td>\n",
       "      <td>2017-03-03 17:38:52</td>\n",
       "    </tr>\n",
       "    <tr>\n",
       "      <th>2</th>\n",
       "      <td>3</td>\n",
       "      <td>44</td>\n",
       "      <td>861</td>\n",
       "      <td>144</td>\n",
       "      <td>1</td>\n",
       "      <td>cash</td>\n",
       "      <td>2017-03-14 4:23:56</td>\n",
       "    </tr>\n",
       "    <tr>\n",
       "      <th>3</th>\n",
       "      <td>4</td>\n",
       "      <td>18</td>\n",
       "      <td>935</td>\n",
       "      <td>156</td>\n",
       "      <td>1</td>\n",
       "      <td>credit_card</td>\n",
       "      <td>2017-03-26 12:43:37</td>\n",
       "    </tr>\n",
       "    <tr>\n",
       "      <th>4</th>\n",
       "      <td>5</td>\n",
       "      <td>18</td>\n",
       "      <td>883</td>\n",
       "      <td>156</td>\n",
       "      <td>1</td>\n",
       "      <td>credit_card</td>\n",
       "      <td>2017-03-01 4:35:11</td>\n",
       "    </tr>\n",
       "  </tbody>\n",
       "</table>\n",
       "</div>"
      ],
      "text/plain": [
       "   order_id  shop_id  user_id  order_amount  total_items payment_method  \\\n",
       "0         1       53      746           224            2           cash   \n",
       "1         2       92      925            90            1           cash   \n",
       "2         3       44      861           144            1           cash   \n",
       "3         4       18      935           156            1    credit_card   \n",
       "4         5       18      883           156            1    credit_card   \n",
       "\n",
       "            created_at  \n",
       "0  2017-03-13 12:36:56  \n",
       "1  2017-03-03 17:38:52  \n",
       "2   2017-03-14 4:23:56  \n",
       "3  2017-03-26 12:43:37  \n",
       "4   2017-03-01 4:35:11  "
      ]
     },
     "execution_count": 3,
     "metadata": {},
     "output_type": "execute_result"
    }
   ],
   "source": [
    "data.head()\n"
   ]
  },
  {
   "cell_type": "markdown",
   "metadata": {},
   "source": [
    "## Things going through my head:\n",
    "\n",
    "- Exactly 100 Shops.\n",
    "- Sells only one model of shoe. \n",
    "- 30 day window. \n",
    "- Naive Calculation: $3145.13 \n",
    "- Selling Sneakers, relatively affordable item. \n",
    "\n",
    "Calculate the AOV(Average Order Value): which is the average value of a single order. "
   ]
  },
  {
   "cell_type": "markdown",
   "metadata": {},
   "source": [
    "Let's start with the total order amount. "
   ]
  },
  {
   "cell_type": "code",
   "execution_count": 4,
   "metadata": {
    "ExecuteTime": {
     "end_time": "2020-08-28T04:53:03.486266Z",
     "start_time": "2020-08-28T04:53:03.420736Z"
    }
   },
   "outputs": [
    {
     "data": {
      "text/plain": [
       "15725640"
      ]
     },
     "execution_count": 4,
     "metadata": {},
     "output_type": "execute_result"
    }
   ],
   "source": [
    "data['order_amount'].sum()"
   ]
  },
  {
   "cell_type": "markdown",
   "metadata": {},
   "source": [
    "15725640 is the Total Amount generated; considering for e.g the first entry, of 224 \n",
    "is actually 112x2 or 2 items of 112 sold at 224 "
   ]
  },
  {
   "cell_type": "code",
   "execution_count": 5,
   "metadata": {
    "ExecuteTime": {
     "end_time": "2020-08-28T04:53:03.610017Z",
     "start_time": "2020-08-28T04:53:03.537103Z"
    }
   },
   "outputs": [
    {
     "data": {
      "text/html": [
       "<div>\n",
       "<style scoped>\n",
       "    .dataframe tbody tr th:only-of-type {\n",
       "        vertical-align: middle;\n",
       "    }\n",
       "\n",
       "    .dataframe tbody tr th {\n",
       "        vertical-align: top;\n",
       "    }\n",
       "\n",
       "    .dataframe thead th {\n",
       "        text-align: right;\n",
       "    }\n",
       "</style>\n",
       "<table border=\"1\" class=\"dataframe\">\n",
       "  <thead>\n",
       "    <tr style=\"text-align: right;\">\n",
       "      <th></th>\n",
       "      <th>order_id</th>\n",
       "      <th>shop_id</th>\n",
       "      <th>user_id</th>\n",
       "      <th>order_amount</th>\n",
       "      <th>total_items</th>\n",
       "      <th>payment_method</th>\n",
       "      <th>created_at</th>\n",
       "    </tr>\n",
       "  </thead>\n",
       "  <tbody>\n",
       "    <tr>\n",
       "      <th>0</th>\n",
       "      <td>1</td>\n",
       "      <td>53</td>\n",
       "      <td>746</td>\n",
       "      <td>224</td>\n",
       "      <td>2</td>\n",
       "      <td>cash</td>\n",
       "      <td>2017-03-13 12:36:56</td>\n",
       "    </tr>\n",
       "    <tr>\n",
       "      <th>27</th>\n",
       "      <td>28</td>\n",
       "      <td>53</td>\n",
       "      <td>942</td>\n",
       "      <td>112</td>\n",
       "      <td>1</td>\n",
       "      <td>credit_card</td>\n",
       "      <td>2017-03-17 9:41:53</td>\n",
       "    </tr>\n",
       "    <tr>\n",
       "      <th>56</th>\n",
       "      <td>57</td>\n",
       "      <td>53</td>\n",
       "      <td>739</td>\n",
       "      <td>560</td>\n",
       "      <td>5</td>\n",
       "      <td>credit_card</td>\n",
       "      <td>2017-03-18 8:45:21</td>\n",
       "    </tr>\n",
       "    <tr>\n",
       "      <th>85</th>\n",
       "      <td>86</td>\n",
       "      <td>53</td>\n",
       "      <td>908</td>\n",
       "      <td>224</td>\n",
       "      <td>2</td>\n",
       "      <td>credit_card</td>\n",
       "      <td>2017-03-27 20:46:35</td>\n",
       "    </tr>\n",
       "    <tr>\n",
       "      <th>103</th>\n",
       "      <td>104</td>\n",
       "      <td>53</td>\n",
       "      <td>740</td>\n",
       "      <td>224</td>\n",
       "      <td>2</td>\n",
       "      <td>cash</td>\n",
       "      <td>2017-03-17 7:29:30</td>\n",
       "    </tr>\n",
       "    <tr>\n",
       "      <th>...</th>\n",
       "      <td>...</td>\n",
       "      <td>...</td>\n",
       "      <td>...</td>\n",
       "      <td>...</td>\n",
       "      <td>...</td>\n",
       "      <td>...</td>\n",
       "      <td>...</td>\n",
       "    </tr>\n",
       "    <tr>\n",
       "      <th>4691</th>\n",
       "      <td>4692</td>\n",
       "      <td>53</td>\n",
       "      <td>857</td>\n",
       "      <td>224</td>\n",
       "      <td>2</td>\n",
       "      <td>debit</td>\n",
       "      <td>2017-03-22 6:29:38</td>\n",
       "    </tr>\n",
       "    <tr>\n",
       "      <th>4744</th>\n",
       "      <td>4745</td>\n",
       "      <td>53</td>\n",
       "      <td>716</td>\n",
       "      <td>224</td>\n",
       "      <td>2</td>\n",
       "      <td>cash</td>\n",
       "      <td>2017-03-10 8:33:39</td>\n",
       "    </tr>\n",
       "    <tr>\n",
       "      <th>4862</th>\n",
       "      <td>4863</td>\n",
       "      <td>53</td>\n",
       "      <td>917</td>\n",
       "      <td>112</td>\n",
       "      <td>1</td>\n",
       "      <td>debit</td>\n",
       "      <td>2017-03-10 10:07:03</td>\n",
       "    </tr>\n",
       "    <tr>\n",
       "      <th>4920</th>\n",
       "      <td>4921</td>\n",
       "      <td>53</td>\n",
       "      <td>907</td>\n",
       "      <td>336</td>\n",
       "      <td>3</td>\n",
       "      <td>cash</td>\n",
       "      <td>2017-03-16 9:52:17</td>\n",
       "    </tr>\n",
       "    <tr>\n",
       "      <th>4947</th>\n",
       "      <td>4948</td>\n",
       "      <td>53</td>\n",
       "      <td>805</td>\n",
       "      <td>336</td>\n",
       "      <td>3</td>\n",
       "      <td>debit</td>\n",
       "      <td>2017-03-28 2:23:45</td>\n",
       "    </tr>\n",
       "  </tbody>\n",
       "</table>\n",
       "<p>68 rows × 7 columns</p>\n",
       "</div>"
      ],
      "text/plain": [
       "      order_id  shop_id  user_id  order_amount  total_items payment_method  \\\n",
       "0            1       53      746           224            2           cash   \n",
       "27          28       53      942           112            1    credit_card   \n",
       "56          57       53      739           560            5    credit_card   \n",
       "85          86       53      908           224            2    credit_card   \n",
       "103        104       53      740           224            2           cash   \n",
       "...        ...      ...      ...           ...          ...            ...   \n",
       "4691      4692       53      857           224            2          debit   \n",
       "4744      4745       53      716           224            2           cash   \n",
       "4862      4863       53      917           112            1          debit   \n",
       "4920      4921       53      907           336            3           cash   \n",
       "4947      4948       53      805           336            3          debit   \n",
       "\n",
       "               created_at  \n",
       "0     2017-03-13 12:36:56  \n",
       "27     2017-03-17 9:41:53  \n",
       "56     2017-03-18 8:45:21  \n",
       "85    2017-03-27 20:46:35  \n",
       "103    2017-03-17 7:29:30  \n",
       "...                   ...  \n",
       "4691   2017-03-22 6:29:38  \n",
       "4744   2017-03-10 8:33:39  \n",
       "4862  2017-03-10 10:07:03  \n",
       "4920   2017-03-16 9:52:17  \n",
       "4947   2017-03-28 2:23:45  \n",
       "\n",
       "[68 rows x 7 columns]"
      ]
     },
     "execution_count": 5,
     "metadata": {},
     "output_type": "execute_result"
    }
   ],
   "source": [
    "# Let's confirm that the shop number 73 sells the sneaker model 112. \n",
    "data[data['shop_id'] == 53]\n",
    "# As we can see in the below table, the order_amount is the total amount. It sells items of $112."
   ]
  },
  {
   "cell_type": "code",
   "execution_count": 6,
   "metadata": {
    "ExecuteTime": {
     "end_time": "2020-08-28T04:53:03.766695Z",
     "start_time": "2020-08-28T04:53:03.616275Z"
    }
   },
   "outputs": [],
   "source": [
    "values = []\n",
    "for i in range(100): #Since we know there are 100 shops\n",
    "    x = data[data['shop_id']==i]['order_amount'].sum()\n",
    "#     if x == 11990176: #I hard coded this value from the below cell, just to find which shop had the most sales\n",
    "#         print(\"Max value by:\", i)\n",
    "    values.append(x)"
   ]
  },
  {
   "cell_type": "code",
   "execution_count": 7,
   "metadata": {
    "ExecuteTime": {
     "end_time": "2020-08-28T04:53:03.798721Z",
     "start_time": "2020-08-28T04:53:03.769301Z"
    }
   },
   "outputs": [
    {
     "data": {
      "text/plain": [
       "11990176"
      ]
     },
     "execution_count": 7,
     "metadata": {},
     "output_type": "execute_result"
    }
   ],
   "source": [
    "max(values) #max sold by a shop in 1 month\n",
    "# Used this value in the above cell to quickly figure out the best performing store. "
   ]
  },
  {
   "cell_type": "markdown",
   "metadata": {},
   "source": [
    "Shop 42 had the maximum sales."
   ]
  },
  {
   "cell_type": "code",
   "execution_count": 8,
   "metadata": {
    "ExecuteTime": {
     "end_time": "2020-08-28T04:53:03.821493Z",
     "start_time": "2020-08-28T04:53:03.807197Z"
    }
   },
   "outputs": [
    {
     "name": "stdout",
     "output_type": "stream",
     "text": [
      "15725640\n"
     ]
    }
   ],
   "source": [
    "#Now, Let's try to figure out the average sales in a month. \n",
    "total_sales = data['order_amount'].sum() #Adding up the total order amounts\n",
    "print(total_sales)"
   ]
  },
  {
   "cell_type": "markdown",
   "metadata": {},
   "source": [
    "15725640 is the Total Sales in the month.\n",
    "What we need: Average Order Value. \n",
    "\n",
    "To find the AOV, We have the total amount generated by 100 shops. Now, we need to find the total number of orders. Then, We can divide them both to come up with the approximate AOV. "
   ]
  },
  {
   "cell_type": "code",
   "execution_count": 9,
   "metadata": {
    "ExecuteTime": {
     "end_time": "2020-08-28T04:53:03.857252Z",
     "start_time": "2020-08-28T04:53:03.843426Z"
    }
   },
   "outputs": [
    {
     "name": "stdout",
     "output_type": "stream",
     "text": [
      "43936\n"
     ]
    }
   ],
   "source": [
    "total_items = data['total_items'].sum() # Total Items  \n",
    "print(total_items)"
   ]
  },
  {
   "cell_type": "markdown",
   "metadata": {
    "ExecuteTime": {
     "end_time": "2020-08-27T07:13:00.623706Z",
     "start_time": "2020-08-27T07:13:00.615756Z"
    }
   },
   "source": [
    "43936 is the average number of items sold by a shop per day."
   ]
  },
  {
   "cell_type": "code",
   "execution_count": 10,
   "metadata": {
    "ExecuteTime": {
     "end_time": "2020-08-28T04:53:03.871382Z",
     "start_time": "2020-08-28T04:53:03.866539Z"
    }
   },
   "outputs": [
    {
     "name": "stdout",
     "output_type": "stream",
     "text": [
      "357.92152221412965\n"
     ]
    }
   ],
   "source": [
    "AOV = total_sales/total_items\n",
    "print(AOV)"
   ]
  },
  {
   "cell_type": "markdown",
   "metadata": {},
   "source": [
    "This Analysis has shown that the average order value is $357.92; \n",
    "\n",
    "For this, I calculated the total Sales. \n",
    "\n",
    "Then I calculated the total quantity of items sold.\n",
    "\n",
    "I divided the two. "
   ]
  },
  {
   "cell_type": "markdown",
   "metadata": {},
   "source": [
    "# Question number 2:\n",
    "a. How many orders were shipped by Speedy Express in total?\n",
    "I'm assuming the Database provided on w3schools belongs to Speedy Express.\n",
    "\n",
    "Query:\n",
    "- SELECT COUNT(OrderID) FROM Orders;\n",
    "\n",
    "### Output: 196\n",
    "\n"
   ]
  },
  {
   "cell_type": "markdown",
   "metadata": {},
   "source": [
    "b. What is the last name of the employee with the most orders?\n",
    "Query: \n",
    "\n",
    "Query:\n",
    "\n",
    "SELECT LastName\n",
    "\n",
    "FROM (SELECT e.LastName, COUNT(o.OrderID) as num_sales\n",
    "\n",
    "\tFROM Employees e\n",
    "    \n",
    "    JOIN Orders o ON o.EmployeeID=e.EmployeeID\n",
    "    \n",
    "    GROUP BY o.EmployeeID\n",
    "    \n",
    "    ORDER BY num_sales DESC)\n",
    "    \n",
    "LIMIT 1;\n",
    "\n",
    "### Output: Peacock\n"
   ]
  },
  {
   "cell_type": "markdown",
   "metadata": {},
   "source": [
    "c. What product was ordered the most by customers in Germany?\n",
    "Query:\n",
    "\n",
    "\n",
    "\n"
   ]
  },
  {
   "cell_type": "markdown",
   "metadata": {},
   "source": [
    "Query: \n",
    "\n",
    "SELECT p.ProductName\n",
    "\n",
    "FROM Products p,\n",
    "\n",
    "\tOrderDetails od, \n",
    "    \n",
    "    Orders o,\n",
    "    \n",
    "    Customers c\n",
    "    \n",
    "WHERE p.productID = od.ProductID \n",
    "\n",
    "AND od.orderid = o.orderid\n",
    "\n",
    "AND o.customerid = c.customerid\n",
    "\n",
    "AND c.Country = \"Germany\"\n",
    "\n",
    "GROUP BY ProductName\n",
    "\n",
    "ORDER BY SUM(od.Quantity) DESC\n",
    "\n",
    "LIMIT 1;\n",
    "\n",
    "### Output: Boston Crab Meat\n"
   ]
  },
  {
   "cell_type": "code",
   "execution_count": null,
   "metadata": {},
   "outputs": [],
   "source": []
  }
 ],
 "metadata": {
  "kernelspec": {
   "display_name": "Python 3",
   "language": "python",
   "name": "python3"
  },
  "language_info": {
   "codemirror_mode": {
    "name": "ipython",
    "version": 3
   },
   "file_extension": ".py",
   "mimetype": "text/x-python",
   "name": "python",
   "nbconvert_exporter": "python",
   "pygments_lexer": "ipython3",
   "version": "3.8.1"
  },
  "varInspector": {
   "cols": {
    "lenName": 16,
    "lenType": 16,
    "lenVar": 40
   },
   "kernels_config": {
    "python": {
     "delete_cmd_postfix": "",
     "delete_cmd_prefix": "del ",
     "library": "var_list.py",
     "varRefreshCmd": "print(var_dic_list())"
    },
    "r": {
     "delete_cmd_postfix": ") ",
     "delete_cmd_prefix": "rm(",
     "library": "var_list.r",
     "varRefreshCmd": "cat(var_dic_list()) "
    }
   },
   "types_to_exclude": [
    "module",
    "function",
    "builtin_function_or_method",
    "instance",
    "_Feature"
   ],
   "window_display": false
  }
 },
 "nbformat": 4,
 "nbformat_minor": 4
}
